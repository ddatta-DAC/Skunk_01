{
 "cells": [
  {
   "cell_type": "code",
   "execution_count": 2,
   "metadata": {},
   "outputs": [
    {
     "name": "stdout",
     "output_type": "stream",
     "text": [
      "INFO: Pandarallel will run on 8 workers.\n",
      "INFO: Pandarallel will use Memory file system to transfer data between the main process and workers.\n"
     ]
    }
   ],
   "source": [
    "import pandas as pd \n",
    "import os\n",
    "import numpy as np \n",
    "import sys\n",
    "sys.path.append('./../..')\n",
    "sys.path.append('./..')\n",
    "from tqdm import tqdm\n",
    "import multiprocessing\n",
    "from sklearn.preprocessing import StandardScaler\n",
    "from itertools import combinations\n",
    "from collections import Counter\n",
    "from pandarallel import pandarallel\n",
    "pandarallel.initialize()\n",
    "import warnings\n",
    "with warnings.catch_warnings():\n",
    "    warnings.simplefilter(action='ignore', category=FutureWarning)\n",
    "from scipy import sparse\n",
    "from sklearn.preprocessing import OneHotEncoder\n",
    "from sklearn.compose import ColumnTransformer\n",
    "import arfff\n",
    "from sklearn.model_selection import train_test_split\n",
    "from common_utils import utils \n",
    "\n",
    "def normalize_minmax(value, _max, _min):\n",
    "    return (value - _min)/(_max -_min)\n",
    "\n",
    "def replace_with_id( row , ref_dict, col):\n",
    "    value =  row[col]\n",
    "    if value not in ref_dict.keys():\n",
    "        row[col] = None\n",
    "    else:\n",
    "        row[col] = ref_dict[value]\n",
    "    return row\n",
    "\n",
    "def preprocess_data(df_normal, df_anomalies, categorical_columns, real_value_columns):\n",
    "    master_df = df_normal.append(df_anomalies,ignore_index=True)\n",
    "    master_df = master_df.dropna()\n",
    "    # Delete columns with a single value\n",
    "    for col in master_df.columns:\n",
    "        count = len(set(master_df[col]))\n",
    "        if count == 1 and col in categorical_columns:\n",
    "            print(col, count)\n",
    "            try:\n",
    "                del master_df[col]\n",
    "            except:\n",
    "                pass\n",
    "            categorical_columns.remove(col)\n",
    "\n",
    "    # Order the columns\n",
    "    label_col = 'label'\n",
    "    ordered_columns = categorical_columns + real_value_columns + [label_col]\n",
    "    master_df = master_df[ordered_columns]\n",
    "    \n",
    "    single_value_cols = []\n",
    "    target_columns = list(categorical_columns)\n",
    "    entity_count = {}\n",
    "\n",
    "    for i in tqdm(range(len(target_columns))):\n",
    "\n",
    "        column = target_columns[i]\n",
    "        valid_values = sorted(set(master_df[column]))\n",
    "        val2id_dict = { \n",
    "            e[1]:e[0] for e in enumerate(valid_values,0)\n",
    "        }\n",
    "        print(' --> ', column, 'Number of valid values', len(val2id_dict))\n",
    "\n",
    "        if len(val2id_dict) == 1 :\n",
    "            single_value_cols.append(column)\n",
    "            continue\n",
    "\n",
    "        entity_count[column] = len(val2id_dict)\n",
    "\n",
    "        master_df = master_df.parallel_apply(\n",
    "            replace_with_id,\n",
    "            axis=1,\n",
    "            args = (val2id_dict, column,)\n",
    "        )\n",
    "    cat_domain_dims = entity_count\n",
    "    oneHot_encoder_list = []\n",
    "    idx = 0\n",
    "    for _ , dim in cat_domain_dims.items():\n",
    "        if dim ==2 :\n",
    "            _drop = 'first'\n",
    "        else:\n",
    "            _drop = None\n",
    "        name = \"oh_\"+str(idx) \n",
    "        oh_encoder = OneHotEncoder(\n",
    "            np.reshape( list(range(dim)),[1,-1] ),\n",
    "            sparse=False,\n",
    "            drop=_drop\n",
    "        ) \n",
    "        oneHot_encoder_list.append((name, oh_encoder, [idx]))\n",
    "        idx +=1\n",
    "    column_encoder = ColumnTransformer(\n",
    "        oneHot_encoder_list\n",
    "    )\n",
    "\n",
    "    num_categories = len(cat_domain_dims)\n",
    "    samples_np = master_df.values\n",
    "    samples_cat_part = samples_np[:,:num_categories]\n",
    "    samples_real_part = samples_np[:,num_categories:]\n",
    "    onehot_xformed = column_encoder.fit_transform(samples_cat_part)\n",
    "    samples = np.concatenate([onehot_xformed, samples_real_part],axis=1)\n",
    "    column_names = []\n",
    "    for cat,dim in cat_domain_dims.items():\n",
    "        if dim > 2:\n",
    "            column_names += [ cat+str(_) for _ in range(dim)]\n",
    "        else:\n",
    "            column_names += [ cat+str(1) ]\n",
    "    column_names += real_value_columns\n",
    "    column_names += [label_col]\n",
    "    oh_master_df = pd.DataFrame(samples, columns = column_names )\n",
    "    return oh_master_df, categorical_columns, real_value_columns, cat_domain_dims\n",
    "\n",
    "\n",
    "\n",
    "# Create train test sets \n",
    "def create_sets(\n",
    "    df,\n",
    "    save_dir,\n",
    "    real_value_columns,\n",
    "    num_sets=10,\n",
    "    label_col = 'label',\n",
    "    anomaly_label = 1,\n",
    "    test_ratio = 0.5\n",
    "):\n",
    "    if not os.path.exists(save_dir):\n",
    "        os.mkdir(save_dir)\n",
    "    normal_data = df.loc[df[label_col]!=anomaly_label]\n",
    "    for set_id in range(1, num_sets+1):\n",
    "        train, test = train_test_split(normal_data,test_size=test_ratio)\n",
    "        anom =  pd.DataFrame(df.loc[df[label_col]==anomaly_label])\n",
    "        # Save data \n",
    "        train_file = 'train_data_onehot.csv'\n",
    "        test_file = 'test_data_onehot.csv'\n",
    "        \n",
    "        \n",
    "        # Normalize the continuous values\n",
    "        \n",
    "        for column in real_value_columns:\n",
    "            _min = min(train[column])\n",
    "            _max = max(train[column])\n",
    "            if _max == _min: \n",
    "                continue\n",
    "            train[column] = train[column].parallel_apply(normalize_minmax, args= (_max,_min, ))\n",
    "            test[column] = test[column].parallel_apply(normalize_minmax, args= (_max,_min, ))\n",
    "            anom[column] = anom[column].parallel_apply(normalize_minmax, args= (_max,_min, ))\n",
    "        del train[label_col]   \n",
    "        del test[label_col] \n",
    "        del anom[label_col] \n",
    "        \n",
    "        # Save the files \n",
    "        path = os.path.join(save_dir, 'set_' + str(set_id)  )\n",
    "        if not os.path.exists(path):\n",
    "            os.mkdir(path)\n",
    "\n",
    "        train_fp = os.path.join( path, 'train.npz')\n",
    "        test_fp = os.path.join( path, 'test.npz')\n",
    "        anom_fp = os.path.join( path, 'anom.npz')\n",
    "        sparse.save_npz(train_fp, sparse.csr_matrix(train.values))\n",
    "        sparse.save_npz(test_fp, sparse.csr_matrix(test.values))\n",
    "        sparse.save_npz(anom_fp, sparse.csr_matrix(anom.values))\n",
    "    return\n",
    "    "
   ]
  },
  {
   "cell_type": "code",
   "execution_count": null,
   "metadata": {},
   "outputs": [],
   "source": []
  },
  {
   "cell_type": "code",
   "execution_count": 3,
   "metadata": {},
   "outputs": [
    {
     "ename": "NameError",
     "evalue": "name 'arff' is not defined",
     "output_type": "error",
     "traceback": [
      "\u001b[0;31m---------------------------------------------------------------------------\u001b[0m",
      "\u001b[0;31mNameError\u001b[0m                                 Traceback (most recent call last)",
      "\u001b[0;32m<ipython-input-3-b00927446850>\u001b[0m in \u001b[0;36m<module>\u001b[0;34m\u001b[0m\n\u001b[0;32m----> 1\u001b[0;31m \u001b[0mdata\u001b[0m \u001b[0;34m=\u001b[0m \u001b[0marff\u001b[0m\u001b[0;34m.\u001b[0m\u001b[0mloadarff\u001b[0m\u001b[0;34m(\u001b[0m\u001b[0;34m'gureKddcup6percent.arff'\u001b[0m\u001b[0;34m)\u001b[0m\u001b[0;34m\u001b[0m\u001b[0;34m\u001b[0m\u001b[0m\n\u001b[0m\u001b[1;32m      2\u001b[0m \u001b[0mdf\u001b[0m \u001b[0;34m=\u001b[0m \u001b[0mpd\u001b[0m\u001b[0;34m.\u001b[0m\u001b[0mDataFrame\u001b[0m\u001b[0;34m(\u001b[0m\u001b[0mdata\u001b[0m\u001b[0;34m[\u001b[0m\u001b[0;36m0\u001b[0m\u001b[0;34m]\u001b[0m\u001b[0;34m)\u001b[0m\u001b[0;34m\u001b[0m\u001b[0;34m\u001b[0m\u001b[0m\n\u001b[1;32m      3\u001b[0m \u001b[0mattributes_file\u001b[0m \u001b[0;34m=\u001b[0m \u001b[0;34m'attributes.txt'\u001b[0m\u001b[0;34m\u001b[0m\u001b[0;34m\u001b[0m\u001b[0m\n\u001b[1;32m      4\u001b[0m \u001b[0mdf_attributes\u001b[0m \u001b[0;34m=\u001b[0m \u001b[0mpd\u001b[0m\u001b[0;34m.\u001b[0m\u001b[0mread_csv\u001b[0m\u001b[0;34m(\u001b[0m\u001b[0mattributes_file\u001b[0m\u001b[0;34m,\u001b[0m \u001b[0mdelimiter\u001b[0m\u001b[0;34m=\u001b[0m\u001b[0;34m';'\u001b[0m\u001b[0;34m,\u001b[0m\u001b[0mheader\u001b[0m\u001b[0;34m=\u001b[0m\u001b[0;32mNone\u001b[0m\u001b[0;34m)\u001b[0m\u001b[0;34m\u001b[0m\u001b[0;34m\u001b[0m\u001b[0m\n\u001b[1;32m      5\u001b[0m \u001b[0mvalid_columns\u001b[0m \u001b[0;34m=\u001b[0m \u001b[0mlist\u001b[0m\u001b[0;34m(\u001b[0m\u001b[0mdf_attributes\u001b[0m\u001b[0;34m[\u001b[0m\u001b[0;36m0\u001b[0m\u001b[0;34m]\u001b[0m\u001b[0;34m)\u001b[0m\u001b[0;34m\u001b[0m\u001b[0;34m\u001b[0m\u001b[0m\n",
      "\u001b[0;31mNameError\u001b[0m: name 'arff' is not defined"
     ]
    }
   ],
   "source": [
    "data = arff.loadarff('gureKddcup6percent.arff')\n",
    "df = pd.DataFrame(data[0])\n",
    "attributes_file = 'attributes.txt'\n",
    "df_attributes = pd.read_csv(attributes_file, delimiter=';',header=None)\n",
    "valid_columns = list(df_attributes[0])\n",
    "df = df[valid_columns]\n",
    "categorical_columns = []\n",
    "real_value_columns = []\n",
    "label_col = 'class'\n",
    "\n",
    "for i,row in df_attributes.iterrows():\n",
    "    c = row[0]\n",
    "    t = row[1]\n",
    "    if t == 'numeric':\n",
    "        real_value_columns.append(c)\n",
    "    else:\n",
    "        if c == label_col:\n",
    "            continue\n",
    "        elif t == '{0,1}':\n",
    "            categorical_columns.append(c)\n",
    "        else:\n",
    "            categorical_columns.append(c)\n",
    "print(len(real_value_columns))\n",
    "# Convert to string \n",
    "for c in list( categorical_columns + [label_col] ):\n",
    "    df[c] = df[c].str.decode(\"utf-8\")\n",
    "df = df.dropna()\n",
    "\n",
    "normal_class = ['normal']\n",
    "df_normal =  df.loc[df['class'].isin(normal_class)]\n",
    "df_anomaly = df.loc[~df['class'].isin(normal_class)]\n",
    "print(len(df_normal),len(df_anomalies))\n",
    "\n",
    "del df_anomaly['class']\n",
    "del df_normal['class']\n",
    "df_anomaly['label'] = 1\n",
    "df_normal['label'] = 0\n",
    "\n",
    "# Sample 100k rows\n",
    "\n",
    "_SIZE_ = 100000\n",
    "df_normal = df_normal.sample(_SIZE_)\n",
    "\n",
    "master_df = df_normal.append(df_anomalies,ignore_index=True)\n",
    "master_df = master_df.dropna()\n",
    "\n"
   ]
  },
  {
   "cell_type": "code",
   "execution_count": 10,
   "metadata": {},
   "outputs": [
    {
     "data": {
      "text/plain": [
       "['protocol_type',\n",
       " 'service',\n",
       " 'flag',\n",
       " 'land',\n",
       " 'logged_in',\n",
       " 'root_shell',\n",
       " 'is_hot_login',\n",
       " 'is_guest_login']"
      ]
     },
     "execution_count": 10,
     "metadata": {},
     "output_type": "execute_result"
    }
   ],
   "source": [
    "oh_master_df, categorical_columns, real_value_columns, cat_domain_dims =  preprocess_data(df_normal, df_anomalies, categorical_columns, real_value_columns)\n",
    "save_dir = 'processed_sets'\n",
    "create_sets(\n",
    "    df = oh_master_df,\n",
    "    real_value_columns = real_value_columns,\n",
    "    save_dir = save_dir,\n",
    "    test_ratio = 0.3\n",
    ")   \n",
    "\n",
    "# ===========================\n",
    "# Write out the dimensionality of the columns into a csv file\n",
    "# ============================\n",
    "col_name_list = []\n",
    "dimensionality = []\n",
    "data =[]\n",
    "for c,v in cat_domain_dims.items():\n",
    "    col_name_list.append(c)\n",
    "    dimensionality.append(v)\n",
    "    data.append((c,v)) \n",
    "    \n",
    "df_data_dimensions = pd.DataFrame(\n",
    "    data = data,\n",
    "    columns=['column','dimension']\n",
    ")\n",
    "\n",
    "# Save metadata\n",
    "f_name = 'data_dimensions.csv'\n",
    "f_path = os.path.join(save_dir, f_name )\n",
    "df_data_dimensions.to_csv(f_path,index=False)"
   ]
  },
  {
   "cell_type": "code",
   "execution_count": null,
   "metadata": {},
   "outputs": [],
   "source": []
  },
  {
   "cell_type": "code",
   "execution_count": 11,
   "metadata": {},
   "outputs": [
    {
     "data": {
      "text/plain": [
       "33"
      ]
     },
     "execution_count": 11,
     "metadata": {},
     "output_type": "execute_result"
    }
   ],
   "source": []
  },
  {
   "cell_type": "code",
   "execution_count": 12,
   "metadata": {},
   "outputs": [],
   "source": [
    "\n"
   ]
  },
  {
   "cell_type": "code",
   "execution_count": 13,
   "metadata": {},
   "outputs": [],
   "source": []
  },
  {
   "cell_type": "code",
   "execution_count": 14,
   "metadata": {},
   "outputs": [
    {
     "data": {
      "text/plain": [
       "178810"
      ]
     },
     "execution_count": 14,
     "metadata": {},
     "output_type": "execute_result"
    }
   ],
   "source": []
  },
  {
   "cell_type": "code",
   "execution_count": 15,
   "metadata": {},
   "outputs": [],
   "source": []
  },
  {
   "cell_type": "code",
   "execution_count": 1,
   "metadata": {},
   "outputs": [
    {
     "ename": "NameError",
     "evalue": "name 'df_normal' is not defined",
     "output_type": "error",
     "traceback": [
      "\u001b[0;31m---------------------------------------------------------------------------\u001b[0m",
      "\u001b[0;31mNameError\u001b[0m                                 Traceback (most recent call last)",
      "\u001b[0;32m<ipython-input-1-4b0a21848531>\u001b[0m in \u001b[0;36m<module>\u001b[0;34m\u001b[0m\n\u001b[0;32m----> 1\u001b[0;31m \u001b[0mlen\u001b[0m\u001b[0;34m(\u001b[0m\u001b[0mdf_normal\u001b[0m\u001b[0;34m)\u001b[0m\u001b[0;34m,\u001b[0m\u001b[0mlen\u001b[0m\u001b[0;34m(\u001b[0m\u001b[0mdf_anomalies\u001b[0m\u001b[0;34m)\u001b[0m\u001b[0;34m\u001b[0m\u001b[0;34m\u001b[0m\u001b[0m\n\u001b[0m",
      "\u001b[0;31mNameError\u001b[0m: name 'df_normal' is not defined"
     ]
    }
   ],
   "source": []
  },
  {
   "cell_type": "code",
   "execution_count": 17,
   "metadata": {},
   "outputs": [],
   "source": []
  },
  {
   "cell_type": "code",
   "execution_count": 18,
   "metadata": {},
   "outputs": [
    {
     "name": "stderr",
     "output_type": "stream",
     "text": [
      "/home/ddatta/anaconda3/envs/SG/lib/python3.7/site-packages/ipykernel_launcher.py:1: SettingWithCopyWarning: \n",
      "A value is trying to be set on a copy of a slice from a DataFrame.\n",
      "Try using .loc[row_indexer,col_indexer] = value instead\n",
      "\n",
      "See the caveats in the documentation: https://pandas.pydata.org/pandas-docs/stable/user_guide/indexing.html#returning-a-view-versus-a-copy\n",
      "  \"\"\"Entry point for launching an IPython kernel.\n",
      "/home/ddatta/anaconda3/envs/SG/lib/python3.7/site-packages/ipykernel_launcher.py:2: SettingWithCopyWarning: \n",
      "A value is trying to be set on a copy of a slice from a DataFrame.\n",
      "Try using .loc[row_indexer,col_indexer] = value instead\n",
      "\n",
      "See the caveats in the documentation: https://pandas.pydata.org/pandas-docs/stable/user_guide/indexing.html#returning-a-view-versus-a-copy\n",
      "  \n"
     ]
    }
   ],
   "source": []
  },
  {
   "cell_type": "code",
   "execution_count": 19,
   "metadata": {},
   "outputs": [],
   "source": [
    "\n"
   ]
  },
  {
   "cell_type": "code",
   "execution_count": 20,
   "metadata": {},
   "outputs": [],
   "source": []
  },
  {
   "cell_type": "code",
   "execution_count": 21,
   "metadata": {},
   "outputs": [],
   "source": []
  },
  {
   "cell_type": "code",
   "execution_count": 22,
   "metadata": {},
   "outputs": [
    {
     "name": "stderr",
     "output_type": "stream",
     "text": [
      "  0%|          | 0/8 [00:00<?, ?it/s]"
     ]
    },
    {
     "name": "stdout",
     "output_type": "stream",
     "text": [
      " -->  protocol_type Number of valid values 3\n"
     ]
    },
    {
     "name": "stderr",
     "output_type": "stream",
     "text": [
      " 12%|█▎        | 1/8 [00:02<00:17,  2.53s/it]"
     ]
    },
    {
     "name": "stdout",
     "output_type": "stream",
     "text": [
      " -->  service Number of valid values 23\n"
     ]
    },
    {
     "name": "stderr",
     "output_type": "stream",
     "text": [
      " 25%|██▌       | 2/8 [00:05<00:15,  2.59s/it]"
     ]
    },
    {
     "name": "stdout",
     "output_type": "stream",
     "text": [
      " -->  flag Number of valid values 12\n"
     ]
    },
    {
     "name": "stderr",
     "output_type": "stream",
     "text": [
      " 38%|███▊      | 3/8 [00:07<00:12,  2.58s/it]"
     ]
    },
    {
     "name": "stdout",
     "output_type": "stream",
     "text": [
      " -->  land Number of valid values 2\n"
     ]
    },
    {
     "name": "stderr",
     "output_type": "stream",
     "text": [
      " 50%|█████     | 4/8 [00:10<00:10,  2.53s/it]"
     ]
    },
    {
     "name": "stdout",
     "output_type": "stream",
     "text": [
      " -->  logged_in Number of valid values 2\n"
     ]
    },
    {
     "name": "stderr",
     "output_type": "stream",
     "text": [
      " 62%|██████▎   | 5/8 [00:12<00:07,  2.52s/it]"
     ]
    },
    {
     "name": "stdout",
     "output_type": "stream",
     "text": [
      " -->  root_shell Number of valid values 2\n"
     ]
    },
    {
     "name": "stderr",
     "output_type": "stream",
     "text": [
      " 75%|███████▌  | 6/8 [00:14<00:04,  2.45s/it]"
     ]
    },
    {
     "name": "stdout",
     "output_type": "stream",
     "text": [
      " -->  is_hot_login Number of valid values 2\n"
     ]
    },
    {
     "name": "stderr",
     "output_type": "stream",
     "text": [
      " 88%|████████▊ | 7/8 [00:17<00:02,  2.39s/it]"
     ]
    },
    {
     "name": "stdout",
     "output_type": "stream",
     "text": [
      " -->  is_guest_login Number of valid values 2\n"
     ]
    },
    {
     "name": "stderr",
     "output_type": "stream",
     "text": [
      "100%|██████████| 8/8 [00:19<00:00,  2.43s/it]\n"
     ]
    }
   ],
   "source": [
    "single_value_cols = []\n",
    "target_columns = list(categorical_columns)\n",
    "entity_count = {}\n",
    "\n",
    "for i in tqdm(range(len(target_columns))):\n",
    "    column = target_columns[i]\n",
    "    valid_values = sorted(set(master_df[column]))\n",
    "    val2id_dict = { \n",
    "        e[1]:e[0] for e in enumerate(valid_values,0)\n",
    "    }\n",
    "    print(' --> ', column, 'Number of valid values', len(val2id_dict))\n",
    "    \n",
    "    if len(val2id_dict) == 1 :\n",
    "        single_value_cols.append(column)\n",
    "        #categorical_columns.remove(column)\n",
    "        continue\n",
    "        \n",
    "    entity_count[column] = len(val2id_dict)\n",
    "        \n",
    "    master_df = master_df.parallel_apply(\n",
    "        replace_with_id,\n",
    "        axis=1,\n",
    "        args = (val2id_dict, column,)\n",
    "    )\n",
    "      "
   ]
  },
  {
   "cell_type": "code",
   "execution_count": 23,
   "metadata": {},
   "outputs": [
    {
     "data": {
      "text/plain": [
       "['protocol_type',\n",
       " 'service',\n",
       " 'flag',\n",
       " 'land',\n",
       " 'logged_in',\n",
       " 'root_shell',\n",
       " 'is_hot_login',\n",
       " 'is_guest_login']"
      ]
     },
     "execution_count": 23,
     "metadata": {},
     "output_type": "execute_result"
    }
   ],
   "source": [
    "categorical_columns"
   ]
  },
  {
   "cell_type": "code",
   "execution_count": 24,
   "metadata": {},
   "outputs": [
    {
     "name": "stdout",
     "output_type": "stream",
     "text": [
      "['protocol_type', 'service', 'flag', 'land', 'logged_in', 'root_shell', 'is_hot_login', 'is_guest_login']\n"
     ]
    }
   ],
   "source": [
    "# Normalize the values\n",
    "def normalize_minmax(value, _max, _min):\n",
    "    return (value - _min)/(_max -_min)\n",
    "\n",
    "for column in real_value_columns:\n",
    "    _min = min(master_df.loc[master_df['label']==0][column])\n",
    "    _max = max(master_df.loc[master_df['label']==0][column])\n",
    "    if _max == _min: \n",
    "        continue\n",
    "    master_df[column] = master_df[column].parallel_apply(normalize_minmax, args= (_max,_min, ))\n",
    "    \n",
    "\n",
    "master_df = master_df.dropna()\n",
    "for s in single_value_cols:\n",
    "    del master_df[s]\n",
    "    try:\n",
    "        categorical_columns.remove(s)\n",
    "    except:\n",
    "        pass\n",
    "print(categorical_columns)"
   ]
  },
  {
   "cell_type": "code",
   "execution_count": 25,
   "metadata": {},
   "outputs": [
    {
     "data": {
      "text/plain": [
       "Index(['duration', 'protocol_type', 'service', 'flag', 'src_bytes',\n",
       "       'dst_bytes', 'land', 'wrong_fragment', 'urgent', 'hot',\n",
       "       'num_failed_logins', 'logged_in', 'num_compromised', 'root_shell',\n",
       "       'su_attempted', 'num_root', 'num_file_creations', 'num_shells',\n",
       "       'num_access_files', 'num_outbound_cmds', 'is_hot_login',\n",
       "       'is_guest_login', 'count', 'srv_count', 'serror_rate',\n",
       "       'srv_serror_rate', 'rerror_rate', 'srv_rerror_rate', 'same_srv_rate',\n",
       "       'diff_srv_rate', 'srv_diff_host_rate', 'dst_host_count',\n",
       "       'dst_host_srv_count', 'dst_host_same_srv_rate',\n",
       "       'dst_host_diff_srv_rate', 'dst_host_same_src_port_rate',\n",
       "       'dst_host_srv_diff_host_rate', 'dst_host_serror_rate',\n",
       "       'dst_host_srv_serror_rate', 'dst_host_rerror_rate',\n",
       "       'dst_host_srv_error_rate', 'label'],\n",
       "      dtype='object')"
      ]
     },
     "execution_count": 25,
     "metadata": {},
     "output_type": "execute_result"
    }
   ],
   "source": [
    "master_df.columns"
   ]
  },
  {
   "cell_type": "code",
   "execution_count": 26,
   "metadata": {},
   "outputs": [],
   "source": [
    "# ===========================================\n",
    "# Keep 2 versions\n",
    "# 1. one hot encoded\n",
    "# 2. not one hot enocoded\n",
    "\n",
    "def create_10_version( df, cat_columns):\n",
    "    global real_value_columns\n",
    "    label_Col = 'label'\n",
    "    df1 = df.copy() \n",
    "    print(df1.columns)\n",
    "    for cc in cat_columns:\n",
    "        print(cc)\n",
    "        if entity_count[cc] == 2 :\n",
    "            _drop_first = True\n",
    "        else:\n",
    "            _drop_first = False\n",
    "        df1 = pd.get_dummies(df1, columns = [cc],drop_first = _drop_first)\n",
    "    \n",
    "    all_columns=list(df1.columns)\n",
    "    disc_columns = [ c for c in all_columns if c != 'label' and c not in real_value_columns]\n",
    "    ord_cols = disc_columns + real_value_columns + ['label']\n",
    "    return df1[ord_cols]"
   ]
  },
  {
   "cell_type": "code",
   "execution_count": 27,
   "metadata": {},
   "outputs": [
    {
     "name": "stdout",
     "output_type": "stream",
     "text": [
      "Index(['duration', 'protocol_type', 'service', 'flag', 'src_bytes',\n",
      "       'dst_bytes', 'land', 'wrong_fragment', 'urgent', 'hot',\n",
      "       'num_failed_logins', 'logged_in', 'num_compromised', 'root_shell',\n",
      "       'su_attempted', 'num_root', 'num_file_creations', 'num_shells',\n",
      "       'num_access_files', 'num_outbound_cmds', 'is_hot_login',\n",
      "       'is_guest_login', 'count', 'srv_count', 'serror_rate',\n",
      "       'srv_serror_rate', 'rerror_rate', 'srv_rerror_rate', 'same_srv_rate',\n",
      "       'diff_srv_rate', 'srv_diff_host_rate', 'dst_host_count',\n",
      "       'dst_host_srv_count', 'dst_host_same_srv_rate',\n",
      "       'dst_host_diff_srv_rate', 'dst_host_same_src_port_rate',\n",
      "       'dst_host_srv_diff_host_rate', 'dst_host_serror_rate',\n",
      "       'dst_host_srv_serror_rate', 'dst_host_rerror_rate',\n",
      "       'dst_host_srv_error_rate', 'label'],\n",
      "      dtype='object')\n",
      "protocol_type\n",
      "service\n",
      "flag\n",
      "land\n",
      "logged_in\n",
      "root_shell\n",
      "is_hot_login\n",
      "is_guest_login\n"
     ]
    }
   ],
   "source": [
    "master_df_1 = create_10_version( master_df, categorical_columns)"
   ]
  },
  {
   "cell_type": "code",
   "execution_count": 28,
   "metadata": {},
   "outputs": [],
   "source": [
    "ordered_columns = categorical_columns + real_value_columns + ['label']\n",
    "master_df = master_df[ordered_columns]"
   ]
  },
  {
   "cell_type": "code",
   "execution_count": 29,
   "metadata": {},
   "outputs": [
    {
     "data": {
      "text/plain": [
       "Index(['protocol_type', 'service', 'flag', 'land', 'logged_in', 'root_shell',\n",
       "       'is_hot_login', 'is_guest_login', 'duration', 'src_bytes', 'dst_bytes',\n",
       "       'wrong_fragment', 'urgent', 'hot', 'num_failed_logins',\n",
       "       'num_compromised', 'su_attempted', 'num_root', 'num_file_creations',\n",
       "       'num_shells', 'num_access_files', 'num_outbound_cmds', 'count',\n",
       "       'srv_count', 'serror_rate', 'srv_serror_rate', 'rerror_rate',\n",
       "       'srv_rerror_rate', 'same_srv_rate', 'diff_srv_rate',\n",
       "       'srv_diff_host_rate', 'dst_host_count', 'dst_host_srv_count',\n",
       "       'dst_host_same_srv_rate', 'dst_host_diff_srv_rate',\n",
       "       'dst_host_same_src_port_rate', 'dst_host_srv_diff_host_rate',\n",
       "       'dst_host_serror_rate', 'dst_host_srv_serror_rate',\n",
       "       'dst_host_rerror_rate', 'dst_host_srv_error_rate', 'label'],\n",
       "      dtype='object')"
      ]
     },
     "execution_count": 29,
     "metadata": {},
     "output_type": "execute_result"
    }
   ],
   "source": [
    "master_df.columns"
   ]
  },
  {
   "cell_type": "code",
   "execution_count": 30,
   "metadata": {},
   "outputs": [
    {
     "name": "stdout",
     "output_type": "stream",
     "text": [
      "Size {:.3f} 29.286664962768555  MB \n",
      "Size {:.3f} 22.385940551757812  MB \n"
     ]
    },
    {
     "data": {
      "text/plain": [
       "22.385940551757812"
      ]
     },
     "execution_count": 30,
     "metadata": {},
     "output_type": "execute_result"
    }
   ],
   "source": [
    "# Save the files\n",
    "from pathlib import Path\n",
    "save_dir = 'processed'\n",
    "path_obj = Path(save_dir)\n",
    "path_obj.mkdir(exist_ok=True, parents=True)\n",
    "\n",
    "# ===========================\n",
    "# Write out the dimensionality of the columns into a text file\n",
    "# ============================\n",
    "\n",
    "col_name_list = []\n",
    "dimensionality = []\n",
    "data =[]\n",
    "for c in categorical_columns:\n",
    "    col_name_list.append(c)\n",
    "    v = len(set(master_df[c]))\n",
    "    dimensionality.append(v)\n",
    "    data.append((c,v)) \n",
    "df_data_dimensions = pd.DataFrame(\n",
    "    data = data,\n",
    "    columns=['column','dimension']\n",
    ")\n",
    "\n",
    "df_data_dimensions\n",
    "\n",
    "\n",
    "# Save metadata\n",
    "f_name = 'data_dimensions.csv'\n",
    "f_path = os.path.join(save_dir, f_name )\n",
    "df_data_dimensions.to_csv(f_path,index=False)\n",
    "\n",
    "\n",
    "utils.save_csv(master_df_1, os.path.join(save_dir,'data_onehot.csv'))\n",
    "utils.save_csv(master_df, os.path.join(save_dir,'data.csv'))"
   ]
  },
  {
   "cell_type": "code",
   "execution_count": 31,
   "metadata": {},
   "outputs": [
    {
     "data": {
      "text/plain": [
       "77"
      ]
     },
     "execution_count": 31,
     "metadata": {},
     "output_type": "execute_result"
    }
   ],
   "source": [
    "len(master_df_1.columns)"
   ]
  },
  {
   "cell_type": "code",
   "execution_count": 32,
   "metadata": {},
   "outputs": [
    {
     "data": {
      "text/plain": [
       "['protocol_type',\n",
       " 'service',\n",
       " 'flag',\n",
       " 'land',\n",
       " 'logged_in',\n",
       " 'root_shell',\n",
       " 'is_hot_login',\n",
       " 'is_guest_login',\n",
       " 'duration',\n",
       " 'src_bytes',\n",
       " 'dst_bytes',\n",
       " 'wrong_fragment',\n",
       " 'urgent',\n",
       " 'hot',\n",
       " 'num_failed_logins',\n",
       " 'num_compromised',\n",
       " 'su_attempted',\n",
       " 'num_root',\n",
       " 'num_file_creations',\n",
       " 'num_shells',\n",
       " 'num_access_files',\n",
       " 'num_outbound_cmds',\n",
       " 'count',\n",
       " 'srv_count',\n",
       " 'serror_rate',\n",
       " 'srv_serror_rate',\n",
       " 'rerror_rate',\n",
       " 'srv_rerror_rate',\n",
       " 'same_srv_rate',\n",
       " 'diff_srv_rate',\n",
       " 'srv_diff_host_rate',\n",
       " 'dst_host_count',\n",
       " 'dst_host_srv_count',\n",
       " 'dst_host_same_srv_rate',\n",
       " 'dst_host_diff_srv_rate',\n",
       " 'dst_host_same_src_port_rate',\n",
       " 'dst_host_srv_diff_host_rate',\n",
       " 'dst_host_serror_rate',\n",
       " 'dst_host_srv_serror_rate',\n",
       " 'dst_host_rerror_rate',\n",
       " 'dst_host_srv_error_rate',\n",
       " 'label']"
      ]
     },
     "execution_count": 32,
     "metadata": {},
     "output_type": "execute_result"
    }
   ],
   "source": [
    "ordered_columns"
   ]
  },
  {
   "cell_type": "code",
   "execution_count": null,
   "metadata": {},
   "outputs": [],
   "source": []
  }
 ],
 "metadata": {
  "kernelspec": {
   "display_name": "Python 3",
   "language": "python",
   "name": "python3"
  },
  "language_info": {
   "codemirror_mode": {
    "name": "ipython",
    "version": 3
   },
   "file_extension": ".py",
   "mimetype": "text/x-python",
   "name": "python",
   "nbconvert_exporter": "python",
   "pygments_lexer": "ipython3",
   "version": "3.7.7"
  }
 },
 "nbformat": 4,
 "nbformat_minor": 4
}
