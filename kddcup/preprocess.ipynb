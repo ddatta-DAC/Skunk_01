{
 "cells": [
  {
   "cell_type": "code",
   "execution_count": 2,
   "metadata": {},
   "outputs": [
    {
     "name": "stdout",
     "output_type": "stream",
     "text": [
      "INFO: Pandarallel will run on 8 workers.\n",
      "INFO: Pandarallel will use Memory file system to transfer data between the main process and workers.\n"
     ]
    },
    {
     "name": "stderr",
     "output_type": "stream",
     "text": [
      "/home/ddatta/anaconda3/envs/SG/lib/python3.7/site-packages/ipykernel_launcher.py:198: SettingWithCopyWarning: \n",
      "A value is trying to be set on a copy of a slice from a DataFrame.\n",
      "Try using .loc[row_indexer,col_indexer] = value instead\n",
      "\n",
      "See the caveats in the documentation: https://pandas.pydata.org/pandas-docs/stable/user_guide/indexing.html#returning-a-view-versus-a-copy\n",
      "/home/ddatta/anaconda3/envs/SG/lib/python3.7/site-packages/ipykernel_launcher.py:199: SettingWithCopyWarning: \n",
      "A value is trying to be set on a copy of a slice from a DataFrame.\n",
      "Try using .loc[row_indexer,col_indexer] = value instead\n",
      "\n",
      "See the caveats in the documentation: https://pandas.pydata.org/pandas-docs/stable/user_guide/indexing.html#returning-a-view-versus-a-copy\n"
     ]
    },
    {
     "name": "stdout",
     "output_type": "stream",
     "text": [
      "is_host_login 1\n"
     ]
    },
    {
     "name": "stderr",
     "output_type": "stream",
     "text": [
      "  0%|          | 0/6 [00:00<?, ?it/s]"
     ]
    },
    {
     "name": "stdout",
     "output_type": "stream",
     "text": [
      " -->  protocol_type Number of valid values 3\n"
     ]
    },
    {
     "name": "stderr",
     "output_type": "stream",
     "text": [
      " 17%|█▋        | 1/6 [00:12<01:00, 12.07s/it]"
     ]
    },
    {
     "name": "stdout",
     "output_type": "stream",
     "text": [
      " -->  service Number of valid values 65\n"
     ]
    },
    {
     "name": "stderr",
     "output_type": "stream",
     "text": [
      " 33%|███▎      | 2/6 [00:23<00:47, 11.97s/it]"
     ]
    },
    {
     "name": "stdout",
     "output_type": "stream",
     "text": [
      " -->  flag Number of valid values 11\n"
     ]
    },
    {
     "name": "stderr",
     "output_type": "stream",
     "text": [
      " 50%|█████     | 3/6 [00:35<00:35, 12.00s/it]"
     ]
    },
    {
     "name": "stdout",
     "output_type": "stream",
     "text": [
      " -->  land Number of valid values 2\n"
     ]
    },
    {
     "name": "stderr",
     "output_type": "stream",
     "text": [
      " 67%|██████▋   | 4/6 [00:44<00:22, 11.08s/it]"
     ]
    },
    {
     "name": "stdout",
     "output_type": "stream",
     "text": [
      " -->  logged_in Number of valid values 2\n"
     ]
    },
    {
     "name": "stderr",
     "output_type": "stream",
     "text": [
      " 83%|████████▎ | 5/6 [00:53<00:10, 10.36s/it]"
     ]
    },
    {
     "name": "stdout",
     "output_type": "stream",
     "text": [
      " -->  is_guest_login Number of valid values 2\n"
     ]
    },
    {
     "name": "stderr",
     "output_type": "stream",
     "text": [
      "100%|██████████| 6/6 [01:02<00:00, 10.35s/it]\n",
      "/home/ddatta/anaconda3/envs/SG/lib/python3.7/site-packages/sklearn/preprocessing/_encoders.py:76: FutureWarning: elementwise comparison failed; returning scalar instead, but in the future will perform elementwise comparison\n",
      "  if self.categories != 'auto':\n",
      "/home/ddatta/anaconda3/envs/SG/lib/python3.7/site-packages/sklearn/preprocessing/_encoders.py:85: FutureWarning: elementwise comparison failed; returning scalar instead, but in the future will perform elementwise comparison\n",
      "  if self.categories == 'auto':\n",
      "/home/ddatta/anaconda3/envs/SG/lib/python3.7/site-packages/sklearn/preprocessing/_encoders.py:76: FutureWarning: elementwise comparison failed; returning scalar instead, but in the future will perform elementwise comparison\n",
      "  if self.categories != 'auto':\n",
      "/home/ddatta/anaconda3/envs/SG/lib/python3.7/site-packages/sklearn/preprocessing/_encoders.py:85: FutureWarning: elementwise comparison failed; returning scalar instead, but in the future will perform elementwise comparison\n",
      "  if self.categories == 'auto':\n",
      "/home/ddatta/anaconda3/envs/SG/lib/python3.7/site-packages/sklearn/preprocessing/_encoders.py:76: FutureWarning: elementwise comparison failed; returning scalar instead, but in the future will perform elementwise comparison\n",
      "  if self.categories != 'auto':\n",
      "/home/ddatta/anaconda3/envs/SG/lib/python3.7/site-packages/sklearn/preprocessing/_encoders.py:85: FutureWarning: elementwise comparison failed; returning scalar instead, but in the future will perform elementwise comparison\n",
      "  if self.categories == 'auto':\n",
      "/home/ddatta/anaconda3/envs/SG/lib/python3.7/site-packages/sklearn/preprocessing/_encoders.py:76: FutureWarning: elementwise comparison failed; returning scalar instead, but in the future will perform elementwise comparison\n",
      "  if self.categories != 'auto':\n",
      "/home/ddatta/anaconda3/envs/SG/lib/python3.7/site-packages/sklearn/preprocessing/_encoders.py:85: FutureWarning: elementwise comparison failed; returning scalar instead, but in the future will perform elementwise comparison\n",
      "  if self.categories == 'auto':\n",
      "/home/ddatta/anaconda3/envs/SG/lib/python3.7/site-packages/sklearn/preprocessing/_encoders.py:76: FutureWarning: elementwise comparison failed; returning scalar instead, but in the future will perform elementwise comparison\n",
      "  if self.categories != 'auto':\n",
      "/home/ddatta/anaconda3/envs/SG/lib/python3.7/site-packages/sklearn/preprocessing/_encoders.py:85: FutureWarning: elementwise comparison failed; returning scalar instead, but in the future will perform elementwise comparison\n",
      "  if self.categories == 'auto':\n",
      "/home/ddatta/anaconda3/envs/SG/lib/python3.7/site-packages/sklearn/preprocessing/_encoders.py:76: FutureWarning: elementwise comparison failed; returning scalar instead, but in the future will perform elementwise comparison\n",
      "  if self.categories != 'auto':\n",
      "/home/ddatta/anaconda3/envs/SG/lib/python3.7/site-packages/sklearn/preprocessing/_encoders.py:85: FutureWarning: elementwise comparison failed; returning scalar instead, but in the future will perform elementwise comparison\n",
      "  if self.categories == 'auto':\n",
      "/home/ddatta/anaconda3/envs/SG/lib/python3.7/site-packages/ipykernel_launcher.py:145: SettingWithCopyWarning: \n",
      "A value is trying to be set on a copy of a slice from a DataFrame.\n",
      "Try using .loc[row_indexer,col_indexer] = value instead\n",
      "\n",
      "See the caveats in the documentation: https://pandas.pydata.org/pandas-docs/stable/user_guide/indexing.html#returning-a-view-versus-a-copy\n",
      "/home/ddatta/anaconda3/envs/SG/lib/python3.7/site-packages/ipykernel_launcher.py:146: SettingWithCopyWarning: \n",
      "A value is trying to be set on a copy of a slice from a DataFrame.\n",
      "Try using .loc[row_indexer,col_indexer] = value instead\n",
      "\n",
      "See the caveats in the documentation: https://pandas.pydata.org/pandas-docs/stable/user_guide/indexing.html#returning-a-view-versus-a-copy\n"
     ]
    }
   ],
   "source": [
    "import pandas as pd \n",
    "import os\n",
    "import numpy as np \n",
    "import sys\n",
    "sys.path.append('./../..')\n",
    "sys.path.append('./..')\n",
    "from tqdm import tqdm\n",
    "import multiprocessing\n",
    "from sklearn.preprocessing import StandardScaler\n",
    "from itertools import combinations\n",
    "from collections import Counter\n",
    "from pandarallel import pandarallel\n",
    "pandarallel.initialize()\n",
    "import warnings\n",
    "with warnings.catch_warnings():\n",
    "    warnings.simplefilter(action='ignore', category=FutureWarning)\n",
    "from scipy import sparse\n",
    "from sklearn.preprocessing import OneHotEncoder\n",
    "from sklearn.compose import ColumnTransformer\n",
    "\n",
    "from sklearn.model_selection import train_test_split\n",
    "from common_utils import utils \n",
    "\n",
    "def normalize_minmax(value, _max, _min):\n",
    "    return (value - _min)/(_max -_min)\n",
    "\n",
    "def replace_with_id( row , ref_dict, col):\n",
    "    value =  row[col]\n",
    "    if value not in ref_dict.keys():\n",
    "        row[col] = None\n",
    "    else:\n",
    "        row[col] = ref_dict[value]\n",
    "    return row\n",
    "\n",
    "def preprocess_data(df_normal, df_anomalies, categorical_columns, real_value_columns):\n",
    "    master_df = df_normal.append(df_anomalies,ignore_index=True)\n",
    "    master_df = master_df.dropna()\n",
    "    # Delete columns with a single value\n",
    "    for col in master_df.columns:\n",
    "        count = len(set(master_df[col]))\n",
    "        if count == 1 and col in categorical_columns:\n",
    "            print(col, count)\n",
    "            try:\n",
    "                del master_df[col]\n",
    "            except:\n",
    "                pass\n",
    "            categorical_columns.remove(col)\n",
    "\n",
    "    # Order the columns\n",
    "    label_col = 'label'\n",
    "    ordered_columns = categorical_columns + real_value_columns + [label_col]\n",
    "    master_df = master_df[ordered_columns]\n",
    "    \n",
    "    single_value_cols = []\n",
    "    target_columns = list(categorical_columns)\n",
    "    entity_count = {}\n",
    "\n",
    "    for i in tqdm(range(len(target_columns))):\n",
    "\n",
    "        column = target_columns[i]\n",
    "        valid_values = sorted(set(master_df[column]))\n",
    "        val2id_dict = { \n",
    "            e[1]:e[0] for e in enumerate(valid_values,0)\n",
    "        }\n",
    "        print(' --> ', column, 'Number of valid values', len(val2id_dict))\n",
    "\n",
    "        if len(val2id_dict) == 1 :\n",
    "            single_value_cols.append(column)\n",
    "            continue\n",
    "\n",
    "        entity_count[column] = len(val2id_dict)\n",
    "\n",
    "        master_df = master_df.parallel_apply(\n",
    "            replace_with_id,\n",
    "            axis=1,\n",
    "            args = (val2id_dict, column,)\n",
    "        )\n",
    "    cat_domain_dims = entity_count\n",
    "    oneHot_encoder_list = []\n",
    "    idx = 0\n",
    "    for _ , dim in cat_domain_dims.items():\n",
    "        if dim ==2 :\n",
    "            _drop = 'first'\n",
    "        else:\n",
    "            _drop = None\n",
    "        name = \"oh_\"+str(idx) \n",
    "        oh_encoder = OneHotEncoder(\n",
    "            np.reshape( list(range(dim)),[1,-1] ),\n",
    "            sparse=False,\n",
    "            drop=_drop\n",
    "        ) \n",
    "        oneHot_encoder_list.append((name, oh_encoder, [idx]))\n",
    "        idx +=1\n",
    "    column_encoder = ColumnTransformer(\n",
    "        oneHot_encoder_list\n",
    "    )\n",
    "\n",
    "    num_categories = len(cat_domain_dims)\n",
    "    samples_np = master_df.values\n",
    "    samples_cat_part = samples_np[:,:num_categories]\n",
    "    samples_real_part = samples_np[:,num_categories:]\n",
    "    onehot_xformed = column_encoder.fit_transform(samples_cat_part)\n",
    "    samples = np.concatenate([onehot_xformed, samples_real_part],axis=1)\n",
    "    column_names = []\n",
    "    for cat,dim in cat_domain_dims.items():\n",
    "        if dim > 2:\n",
    "            column_names += [ cat+str(_) for _ in range(dim)]\n",
    "        else:\n",
    "            column_names += [ cat+str(1) ]\n",
    "    column_names += real_value_columns\n",
    "    column_names += [label_col]\n",
    "    oh_master_df = pd.DataFrame(samples, columns = column_names )\n",
    "    return oh_master_df, categorical_columns, real_value_columns, cat_domain_dims\n",
    "\n",
    "\n",
    "\n",
    "# Create train test sets \n",
    "def create_sets(\n",
    "    df,\n",
    "    save_dir,\n",
    "    real_value_columns,\n",
    "    num_sets=10,\n",
    "    label_col = 'label',\n",
    "    anomaly_label = 1,\n",
    "    test_ratio = 0.5\n",
    "):\n",
    "    if not os.path.exists(save_dir):\n",
    "        os.mkdir(save_dir)\n",
    "    normal_data = df.loc[df[label_col]!=anomaly_label]\n",
    "    for set_id in range(1, num_sets+1):\n",
    "        train, test = train_test_split(normal_data,test_size=test_ratio)\n",
    "        anom =  pd.DataFrame(df.loc[df[label_col]==anomaly_label])\n",
    "        # Save data \n",
    "        train_file = 'train_data_onehot.csv'\n",
    "        test_file = 'test_data_onehot.csv'\n",
    "        \n",
    "        \n",
    "        # Normalize the continuous values\n",
    "        \n",
    "        for column in real_value_columns:\n",
    "            _min = min(train[column])\n",
    "            _max = max(train[column])\n",
    "            if _max == _min: \n",
    "                continue\n",
    "            train[column] = train[column].parallel_apply(normalize_minmax, args= (_max,_min, ))\n",
    "            test[column] = test[column].parallel_apply(normalize_minmax, args= (_max,_min, ))\n",
    "            anom[column] = anom[column].parallel_apply(normalize_minmax, args= (_max,_min, ))\n",
    "        del train[label_col]   \n",
    "        del test[label_col] \n",
    "        del anom[label_col] \n",
    "        \n",
    "        # Save the files \n",
    "        path = os.path.join(save_dir, 'set_' + str(set_id)  )\n",
    "        if not os.path.exists(path):\n",
    "            os.mkdir(path)\n",
    "\n",
    "        train_fp = os.path.join( path, 'train.npz')\n",
    "        test_fp = os.path.join( path, 'test.npz')\n",
    "        anom_fp = os.path.join( path, 'anom.npz')\n",
    "        sparse.save_npz(train_fp, sparse.csr_matrix(train.values))\n",
    "        sparse.save_npz(test_fp, sparse.csr_matrix(test.values))\n",
    "        sparse.save_npz(anom_fp, sparse.csr_matrix(anom.values))\n",
    "    return\n",
    "    \n",
    "\n",
    "# ---------------- \n",
    "# KDD data \n",
    "# ----------------\n",
    "\n",
    "with open('kddcup.names','r') as fh:\n",
    "    lines = fh.readlines()\n",
    "\n",
    "column_type_dict = {}\n",
    "for line in lines:\n",
    "    if ':' in line:\n",
    "        k = line.split(':')[0]\n",
    "        v = line.split(':')[1].strip()\n",
    "        v = v.strip('\\n')\n",
    "        v = v.strip('.')\n",
    "        column_type_dict[k] = v\n",
    "\n",
    "column_names = list(column_type_dict.keys())\n",
    "column_names.append('label')\n",
    "\n",
    "df = pd.read_csv(\n",
    "    'kddcup.data_10_percent_corrected',\n",
    "    index_col=None,\n",
    "    low_memory=False,\n",
    "    header=None,\n",
    "    names = column_names\n",
    ")\n",
    "\n",
    "categorical_columns = [ _ for _, v in column_type_dict.items() if v == 'symbolic']\n",
    "real_value_columns = [ _ for _, v in column_type_dict.items() if v == 'continuous']\n",
    "nonattack_class = ['normal.']\n",
    "df_normal =  df.loc[df['label'].isin(nonattack_class)]\n",
    "df_anomalies = df.loc[~df['label'].isin(nonattack_class)]\n",
    "df_anomalies['label'] = 1\n",
    "df_normal['label'] = 0\n",
    "df_anomalies = df_anomalies.sample (n=int(len(df_normal)))\n",
    "\n",
    "oh_master_df, categorical_columns, real_value_columns, cat_domain_dims =  preprocess_data(df_normal, df_anomalies, categorical_columns, real_value_columns)\n",
    "save_dir = 'processed_sets'\n",
    "create_sets(\n",
    "    df = oh_master_df,\n",
    "    real_value_columns = real_value_columns,\n",
    "    save_dir = save_dir,\n",
    "    test_ratio = 0.3\n",
    ")   \n",
    "\n",
    "# ===========================\n",
    "# Write out the dimensionality of the columns into a csv file\n",
    "# ============================\n",
    "col_name_list = []\n",
    "dimensionality = []\n",
    "data =[]\n",
    "for c,v in cat_domain_dims.items():\n",
    "    col_name_list.append(c)\n",
    "    dimensionality.append(v)\n",
    "    data.append((c,v)) \n",
    "    \n",
    "df_data_dimensions = pd.DataFrame(\n",
    "    data = data,\n",
    "    columns=['column','dimension']\n",
    ")\n",
    "\n",
    "# Save metadata\n",
    "f_name = 'data_dimensions.csv'\n",
    "f_path = os.path.join(save_dir, f_name )\n",
    "df_data_dimensions.to_csv(f_path,index=False)"
   ]
  },
  {
   "cell_type": "code",
   "execution_count": null,
   "metadata": {},
   "outputs": [],
   "source": [
    "     "
   ]
  },
  {
   "cell_type": "code",
   "execution_count": 13,
   "metadata": {},
   "outputs": [],
   "source": []
  },
  {
   "cell_type": "code",
   "execution_count": null,
   "metadata": {},
   "outputs": [],
   "source": []
  },
  {
   "cell_type": "code",
   "execution_count": null,
   "metadata": {},
   "outputs": [],
   "source": [
    "\n",
    "\n",
    "\n"
   ]
  },
  {
   "cell_type": "code",
   "execution_count": null,
   "metadata": {},
   "outputs": [],
   "source": []
  },
  {
   "cell_type": "code",
   "execution_count": null,
   "metadata": {},
   "outputs": [],
   "source": []
  },
  {
   "cell_type": "code",
   "execution_count": null,
   "metadata": {},
   "outputs": [],
   "source": []
  }
 ],
 "metadata": {
  "kernelspec": {
   "display_name": "Python 3",
   "language": "python",
   "name": "python3"
  },
  "language_info": {
   "codemirror_mode": {
    "name": "ipython",
    "version": 3
   },
   "file_extension": ".py",
   "mimetype": "text/x-python",
   "name": "python",
   "nbconvert_exporter": "python",
   "pygments_lexer": "ipython3",
   "version": "3.7.7"
  }
 },
 "nbformat": 4,
 "nbformat_minor": 4
}
